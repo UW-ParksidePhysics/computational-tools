{
 "cells": [
  {
   "metadata": {},
   "cell_type": "markdown",
   "source": "",
   "id": "6815e42f5578974f"
  },
  {
   "metadata": {},
   "cell_type": "markdown",
   "source": [
    "# Conventions\n",
    "\n",
    "| Seperators   | Capitalization |\n",
    "|:-------------| :--- |\n",
    "| No spaces    | camelCase |\n",
    "| Spaces       | UpperCase |\n",
    "| Underscores  | lowercase |"
   ],
   "id": "cb7f92b6cef3cec5"
  },
  {
   "metadata": {},
   "cell_type": "markdown",
   "source": "",
   "id": "fe43b8b0171a4eb6"
  },
  {
   "metadata": {},
   "cell_type": "markdown",
   "source": [
    "# Data Types\n",
    "\n",
    "| Name   | Abreviation | Example  |\n",
    "|:-------| :--- |:---------|\n",
    "| String | str | 'Hello'  |\n",
    "| Integer | int | 5        |\n",
    "| Float | float | 5.       |\n",
    "| Boolean | bool | True |\n",
    "\n",
    "\n",
    "\n"
   ],
   "id": "8eb99ff513b9ed7b"
  },
  {
   "metadata": {},
   "cell_type": "markdown",
   "source": [
    "# Data Structures\n",
    "| Name     | Syntax                       | \n",
    "|:---------|:-----------------------------|\n",
    "| Variable | my_variable = \"\"             |\n",
    "| List     | my_list = []                 |\n",
    "| Tuple    | my_tuple = ()                |\n",
    "| Dictionary | my_dictionary = {key: value} |\n"
   ],
   "id": "4e46eb2ce7db4604"
  },
  {
   "metadata": {},
   "cell_type": "markdown",
   "source": "",
   "id": "551fc9a1bfa4ba49"
  },
  {
   "metadata": {},
   "cell_type": "markdown",
   "source": [
    "# Python Syntax\n",
    "| Name                       | Syntax        | \n",
    "|:---------------------------|:--------------|\n",
    "| Function Call              | my_function() |\n",
    "| Function Definition Header | def my_fucnction(): |\n"
   ],
   "id": "3b0d5ec9e6aeb81"
  }
 ],
 "metadata": {
  "kernelspec": {
   "display_name": "Python 3",
   "language": "python",
   "name": "python3"
  },
  "language_info": {
   "codemirror_mode": {
    "name": "ipython",
    "version": 2
   },
   "file_extension": ".py",
   "mimetype": "text/x-python",
   "name": "python",
   "nbconvert_exporter": "python",
   "pygments_lexer": "ipython2",
   "version": "2.7.6"
  }
 },
 "nbformat": 4,
 "nbformat_minor": 5
}
