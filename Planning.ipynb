{
 "cells": [
  {
   "cell_type": "markdown",
   "metadata": {
    "formattedRanges": [],
    "cell_id": "332754be954f4f308bbce9089e28deed",
    "deepnote_cell_type": "text-cell-h1"
   },
   "source": "# Registration",
   "block_group": "6aa504e05bfb432491f6830477e10cb0"
  },
  {
   "cell_type": "markdown",
   "metadata": {
    "checked": true,
    "formattedRanges": [],
    "cell_id": "adb918e297a14c908d78e49fb51b97c1",
    "deepnote_cell_type": "text-cell-todo"
   },
   "source": "- [x] Filled out the independent study form",
   "block_group": "cd82403afc384c7a8596cef4360b9aa7"
  },
  {
   "cell_type": "markdown",
   "metadata": {
    "checked": true,
    "formattedRanges": [],
    "cell_id": "56646d2a62ac4eea8ea5b59c638312af",
    "deepnote_cell_type": "text-cell-todo"
   },
   "source": "- [x] Filled out SAP form",
   "block_group": "15e7a0e10a4f41fbb636b9df8e329aa5"
  },
  {
   "cell_type": "markdown",
   "metadata": {
    "checked": false,
    "formattedRanges": [],
    "cell_id": "2bc02088bbae41baaa4b8124a76dfd68",
    "deepnote_cell_type": "text-cell-todo"
   },
   "source": "- [x] Send in SAP form",
   "block_group": "4d3131d6feaf40b2999f91204fd0a08c"
  },
  {
   "cell_type": "markdown",
   "metadata": {
    "formattedRanges": [],
    "cell_id": "632248d31e4047de8a5350c10db65484",
    "deepnote_cell_type": "text-cell-h1"
   },
   "source": "# Reading",
   "block_group": "66d600a4714a4984a3b0cc6a0e0d4ca7"
  },
  {
   "cell_type": "markdown",
   "metadata": {
    "checked": true,
    "formattedRanges": [],
    "cell_id": "b3612240fe7d41a5850fb453800975cd",
    "deepnote_cell_type": "text-cell-todo"
   },
   "source": "- [x] Complete Ch. 2 ",
   "block_group": "5b43320e6ef746be8b2e0d7e73ab27a0"
  },
  {
   "cell_type": "markdown",
   "metadata": {
    "checked": false,
    "formattedRanges": [],
    "cell_id": "8bf72e842a65427f960b52db85c572af",
    "deepnote_cell_type": "text-cell-todo"
   },
   "source": "- [ ] Complete Ch. 3",
   "block_group": "acab9188d12c4f44add68faeb55aba34"
  },
  {
   "cell_type": "markdown",
   "metadata": {
    "checked": false,
    "formattedRanges": [],
    "cell_id": "14c667c89d564e5b9c2ef587f2730051",
    "deepnote_cell_type": "text-cell-todo"
   },
   "source": "- [x] Complete Ch. 4",
   "block_group": "a4dc6274588448b6af39d8cd9aa3ea5f"
  },
  {
   "cell_type": "markdown",
   "metadata": {
    "checked": false,
    "formattedRanges": [],
    "cell_id": "d825477caa344009a155259c1e90f044",
    "deepnote_cell_type": "text-cell-todo"
   },
   "source": "- [x ] Complete Ch. 5",
   "block_group": "2ad511dbe6074f6685fd28fae497e931"
  },
  {
   "cell_type": "markdown",
   "metadata": {
    "cell_id": "424b7f015d0b40a98d804da5bb114ed9",
    "deepnote_cell_type": "separator"
   },
   "source": "<hr>",
   "block_group": "4cd976b9de634493900b9d6eb92a0f3d"
  },
  {
   "cell_type": "markdown",
   "metadata": {
    "formattedRanges": [],
    "cell_id": "0d591fc0de4d42a0a2a2f75e455faaaf",
    "deepnote_cell_type": "text-cell-h1"
   },
   "source": "# Spreadsheets",
   "block_group": "b83d636239d34e819938d36c7ae69625"
  },
  {
   "cell_type": "markdown",
   "metadata": {
    "checked": false,
    "formattedRanges": [],
    "cell_id": "b2b1411ca3b94b9386ead1541653b0c1",
    "deepnote_cell_type": "text-cell-todo"
   },
   "source": "- [x] Created Excel document for work",
   "block_group": "297a6d83060d4efc86615a2ff72790da"
  },
  {
   "cell_type": "markdown",
   "metadata": {
    "checked": false,
    "formattedRanges": [],
    "cell_id": "4a67205410454960b72a2d7139d0cb64",
    "deepnote_cell_type": "text-cell-todo"
   },
   "source": "- [x] Identify data to import data into spreadsheet",
   "block_group": "8c2eb671a94e427fa5cfa1aca4dc07fd"
  },
  {
   "cell_type": "markdown",
   "metadata": {
    "checked": false,
    "formattedRanges": [],
    "cell_id": "caac43498c8c48338690ef65219a6751",
    "deepnote_cell_type": "text-cell-todo"
   },
   "source": "- [x] Export data into CSV file for Python import",
   "block_group": "2dd1b7a359764a17b5ec356ff7ea3909"
  },
  {
   "cell_type": "markdown",
   "metadata": {
    "checked": false,
    "formattedRanges": [],
    "cell_id": "0dec5d5acb284444bbc7beb385f5341e",
    "deepnote_cell_type": "text-cell-todo"
   },
   "source": "- [ ] Create formula to analyze data, compute new things(velocity and acceleration equations using finite difference in position and time colousm in excel document)",
   "block_group": "b61fbe8755664eb6a072c02d3f6a3f88"
  },
  {
   "cell_type": "markdown",
   "metadata": {
    "checked": false,
    "formattedRanges": [],
    "cell_id": "385180958a8841579f62cb341874aaef",
    "deepnote_cell_type": "text-cell-todo"
   },
   "source": "- [ ] Make graph of data and computed values",
   "block_group": "c6b2c33059324cc0bf4daacc9b5191ce"
  },
  {
   "cell_type": "markdown",
   "metadata": {
    "checked": false,
    "formattedRanges": [],
    "cell_id": "d76cab40709e472d93dff11d727375c5",
    "deepnote_cell_type": "text-cell-todo"
   },
   "source": "- [ ] Practice one-variable statistics on data",
   "block_group": "0f2ad468120a4b9ab6e56a7f8dabd618"
  },
  {
   "cell_type": "markdown",
   "metadata": {
    "checked": false,
    "formattedRanges": [],
    "cell_id": "bcf92b2a99b94f668f723c0c2e98ed5f",
    "deepnote_cell_type": "text-cell-todo"
   },
   "source": "- [ ] Practice two-variable statistics on data",
   "block_group": "8466a11604704d0084d640f0430b5af8"
  },
  {
   "cell_type": "markdown",
   "metadata": {
    "cell_id": "48ccfeb348ed427ea49d9457a4ed8864",
    "deepnote_cell_type": "separator"
   },
   "source": "<hr>",
   "block_group": "29232932b0b8416296983343be320894"
  },
  {
   "cell_type": "markdown",
   "metadata": {
    "formattedRanges": [],
    "cell_id": "245330214a7348e59306cf887178ee02",
    "deepnote_cell_type": "text-cell-h1"
   },
   "source": "# Equation Solvers",
   "block_group": "3e352f6895304d9c89ec420dd54974f9"
  },
  {
   "cell_type": "markdown",
   "metadata": {
    "checked": true,
    "formattedRanges": [],
    "cell_id": "8e78bba73cf54873a3a5a232a121ee3f",
    "deepnote_cell_type": "text-cell-todo"
   },
   "source": "- [x] Create Deepnote project ",
   "block_group": "c206ecd699f24e70a9a396245379b6ec"
  },
  {
   "cell_type": "markdown",
   "metadata": {
    "checked": false,
    "formattedRanges": [],
    "cell_id": "701cb4079a654332ae4f0e453c791bec",
    "deepnote_cell_type": "text-cell-todo"
   },
   "source": "- [x] Identify linear equation to solve for variable",
   "block_group": "bb175ef48bbb4c34ad42143b5d6ae24a"
  },
  {
   "cell_type": "markdown",
   "metadata": {
    "checked": false,
    "formattedRanges": [],
    "cell_id": "8bd46eb32ae14c348e61ef37cc34ee10",
    "deepnote_cell_type": "text-cell-todo"
   },
   "source": "- [ ] Solve linear equation for variable",
   "block_group": "75ac1376974648ce871f4a68ecc916c7"
  },
  {
   "cell_type": "markdown",
   "metadata": {
    "checked": false,
    "formattedRanges": [],
    "cell_id": "d624c7bf176a42ce97de01041bd26766",
    "deepnote_cell_type": "text-cell-todo"
   },
   "source": "- [x] Format output from SymPy",
   "block_group": "8a4c3efa90b34a1d8378102ca528638e"
  },
  {
   "cell_type": "markdown",
   "metadata": {
    "checked": false,
    "formattedRanges": [],
    "cell_id": "68695947c9c640678a957291719636ff",
    "deepnote_cell_type": "text-cell-todo"
   },
   "source": "- [ ] Identify non-linear equation to solve for variable(y = y_not + v_not(t) - 1/2 g^2 and solve for t",
   "block_group": "24ae4dac2fb34615a5b1e6e78501fc83"
  },
  {
   "cell_type": "markdown",
   "metadata": {
    "checked": false,
    "formattedRanges": [],
    "cell_id": "ca0ebedafa72410486670b875fa5da1e",
    "deepnote_cell_type": "text-cell-todo"
   },
   "source": "- [ ] Identify differential equation to solve for variable",
   "block_group": "fc5448c4548c40f685d1f2a5c0a381f6"
  },
  {
   "cell_type": "markdown",
   "metadata": {
    "checked": false,
    "formattedRanges": [],
    "cell_id": "2103d71b26564e4cb5fe7fa392b8f050",
    "deepnote_cell_type": "text-cell-todo"
   },
   "source": "- [ ] Identify 2D visualization to make",
   "block_group": "f3a68f214324473aa043d6e3647667f9"
  },
  {
   "cell_type": "markdown",
   "metadata": {
    "checked": false,
    "formattedRanges": [],
    "cell_id": "24ee605d28aa4023acb0fad8297e0b00",
    "deepnote_cell_type": "text-cell-todo"
   },
   "source": "- [ ] Identify 3D visualization to make",
   "block_group": "b146eddf2e204d0688e330983665bc06"
  },
  {
   "cell_type": "markdown",
   "metadata": {
    "checked": false,
    "formattedRanges": [],
    "cell_id": "9c23164d85f248099e330c0df89c6ca6",
    "deepnote_cell_type": "text-cell-todo"
   },
   "source": "- [ ] Identify animation to make (bouncing ball off of wall - 2D?)",
   "block_group": "6840f185b77a4462bbf827d45199e5f9"
  },
  {
   "cell_type": "markdown",
   "metadata": {
    "formattedRanges": [],
    "cell_id": "9680aae5a39240a99f1562d5df0fc421",
    "deepnote_cell_type": "text-cell-h1"
   },
   "source": "# Version Control",
   "block_group": "7bcc4e0e9ae24c9bb5251a96ae58c393"
  },
  {
   "cell_type": "markdown",
   "metadata": {
    "checked": true,
    "formattedRanges": [],
    "cell_id": "071a07a642534480b38b24c830401669",
    "deepnote_cell_type": "text-cell-todo"
   },
   "source": "- [x] Create github account (use UWP e-mail)",
   "block_group": "454011c17c2e494a977ab61bfa7fc20d"
  },
  {
   "cell_type": "markdown",
   "metadata": {
    "checked": true,
    "formattedRanges": [],
    "cell_id": "be889193c923433daafc706c01708f96",
    "deepnote_cell_type": "text-cell-todo"
   },
   "source": "- [x] Create a Programming Tools repository",
   "block_group": "c2d95dd3732f4fed88c3945828773770"
  },
  {
   "cell_type": "markdown",
   "metadata": {
    "checked": false,
    "formattedRanges": [],
    "cell_id": "792496eda1244355adbfe7bc5b96865b",
    "deepnote_cell_type": "text-cell-todo"
   },
   "source": "- [ ] Connect the repository to Deepnote",
   "block_group": "8d87749126c7435fb3b241a5dca7dd91"
  },
  {
   "cell_type": "markdown",
   "metadata": {
    "formattedRanges": [],
    "cell_id": "cd54aab37d424649b56b0c9072315c27",
    "deepnote_cell_type": "text-cell-h1"
   },
   "source": "# Programming Tools",
   "block_group": "3e0f51b3d4c4451390d19af65f063866"
  },
  {
   "cell_type": "markdown",
   "metadata": {
    "checked": true,
    "formattedRanges": [],
    "cell_id": "20ba18418c0c417d90f77194560c3d92",
    "deepnote_cell_type": "text-cell-todo"
   },
   "source": "- [x] Install Python on laptop",
   "block_group": "04c702af2831485da2980213a8d6b505"
  },
  {
   "cell_type": "markdown",
   "metadata": {
    "checked": true,
    "formattedRanges": [],
    "cell_id": "e678f3fe92b54cc089d1ae46a509b15d",
    "deepnote_cell_type": "text-cell-todo"
   },
   "source": "- [x] Install git on laptop",
   "block_group": "f97a4d3b82e9473fa32353d7cd0fc8a8"
  },
  {
   "cell_type": "markdown",
   "metadata": {
    "checked": true,
    "formattedRanges": [],
    "cell_id": "c21a9e73ec764bcea6b4fae35476b406",
    "deepnote_cell_type": "text-cell-todo"
   },
   "source": "- [x] Install PyCharm on laptop",
   "block_group": "72843ebd03be4d2bab2660ea6cc79f87"
  },
  {
   "cell_type": "markdown",
   "metadata": {
    "checked": false,
    "formattedRanges": [],
    "cell_id": "cdfb687d7707447cb5f0d05c4a92ebe2",
    "deepnote_cell_type": "text-cell-todo"
   },
   "source": "- [x] Validate educational license for PyCharm",
   "block_group": "c4c22e80281747babbc5c1a155b03a9f"
  },
  {
   "cell_type": "markdown",
   "metadata": {
    "formattedRanges": [],
    "cell_id": "4d6535271a704ac6a3edd98c1612e9c3",
    "deepnote_cell_type": "text-cell-p"
   },
   "source": "",
   "block_group": "698ccb49666043a382221d191a437317"
  },
  {
   "cell_type": "markdown",
   "source": "<a style='text-decoration:none;line-height:16px;display:flex;color:#5B5B62;padding:10px;justify-content:end;' href='https://deepnote.com?utm_source=created-in-deepnote-cell&projectId=c5c69514-c86f-4795-bb36-00dcf030688e' target=\"_blank\">\n<img alt='Created in deepnote.com' style='display:inline;max-height:16px;margin:0px;margin-right:7.5px;' src='data:image/svg+xml;base64,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' > </img>\nCreated in <span style='font-weight:600;margin-left:4px;'>Deepnote</span></a>",
   "metadata": {
    "created_in_deepnote_cell": true,
    "deepnote_cell_type": "markdown"
   }
  }
 ],
 "nbformat": 4,
 "nbformat_minor": 0,
 "metadata": {
  "deepnote_notebook_id": "f46a5f4c2abb41ddab93d0d80927816b",
  "deepnote_execution_queue": []
 }
}
