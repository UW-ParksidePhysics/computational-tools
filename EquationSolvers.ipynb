{
 "cells": [
  {
   "cell_type": "code",
   "execution_count": null,
   "id": "initial_id",
   "metadata": {
    "collapsed": true
   },
   "outputs": [],
   "source": [
    ""
   ]
  },
  {
   "metadata": {},
   "cell_type": "markdown",
   "source": [
    "# solve linear equation\n",
    "\n",
    "$ 0 = v_0 - gT $\n",
    "\n",
    "$ v_0 = $ initial velocity\n",
    "$ g = $ acceleration due to gravity\n",
    "$ T = $ time of zero velocity\n",
    "\n",
    "$ T = \\frac {v_0} {g} $"
   ],
   "id": "776754ff5d1d0f3e"
  },
  {
   "metadata": {
    "ExecuteTime": {
     "end_time": "2024-11-04T17:52:08.427512Z",
     "start_time": "2024-11-04T17:52:08.405542Z"
    }
   },
   "cell_type": "code",
   "source": [
    "from sympy import symbols, Eq, solve, latex\n",
    "from IPython.display import display, Markdown\n",
    "\n",
    "# Define symbols\n",
    "v_0, g, T = symbols('v_0 g T')\n",
    "\n",
    "# Set up the equation\n",
    "equation = Eq(0, v_0 - g*T)\n",
    "\n",
    "# Solve for T\n",
    "solution = solve(equation, T)\n",
    "latex_output = 'T = ' + latex(solution[0])\n",
    "print(solution[0])\n",
    "print(latex(solution[0]))\n",
    "\n",
    "display(Markdown('$' + latex_output + '$'))"
   ],
   "id": "d44204c6cca92e63",
   "outputs": [
    {
     "name": "stdout",
     "output_type": "stream",
     "text": [
      "v_0/g\n",
      "\\frac{v_{0}}{g}\n"
     ]
    },
    {
     "data": {
      "text/plain": [
       "<IPython.core.display.Markdown object>"
      ],
      "text/markdown": "$T = \\frac{v_{0}}{g}$"
     },
     "metadata": {},
     "output_type": "display_data"
    }
   ],
   "execution_count": 6
  }
 ],
 "metadata": {
  "kernelspec": {
   "display_name": "Python 3",
   "language": "python",
   "name": "python3"
  },
  "language_info": {
   "codemirror_mode": {
    "name": "ipython",
    "version": 2
   },
   "file_extension": ".py",
   "mimetype": "text/x-python",
   "name": "python",
   "nbconvert_exporter": "python",
   "pygments_lexer": "ipython2",
   "version": "2.7.6"
  }
 },
 "nbformat": 4,
 "nbformat_minor": 5
}
