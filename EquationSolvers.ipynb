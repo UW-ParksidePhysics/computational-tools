{
 "cells": [
  {
   "cell_type": "code",
   "execution_count": null,
   "id": "initial_id",
   "metadata": {
    "collapsed": true
   },
   "outputs": [],
   "source": [
    ""
   ]
  },
  {
   "metadata": {},
   "cell_type": "markdown",
   "source": [
    "# solve linear equation\n",
    "\n",
    "$ 0 = v_0 - gT $\n",
    "\n",
    "$ v_0 = $ initial velocity\n",
    "$ g = $ acceleration due to gravity\n",
    "$ T = $ time of zero velocity\n",
    "\n",
    "$ T = \\frac {v_0} {g} $"
   ],
   "id": "776754ff5d1d0f3e"
  }
 ],
 "metadata": {
  "kernelspec": {
   "display_name": "Python 3",
   "language": "python",
   "name": "python3"
  },
  "language_info": {
   "codemirror_mode": {
    "name": "ipython",
    "version": 2
   },
   "file_extension": ".py",
   "mimetype": "text/x-python",
   "name": "python",
   "nbconvert_exporter": "python",
   "pygments_lexer": "ipython2",
   "version": "2.7.6"
  }
 },
 "nbformat": 4,
 "nbformat_minor": 5
}
